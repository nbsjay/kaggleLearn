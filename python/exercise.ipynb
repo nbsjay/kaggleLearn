{
 "cells": [
  {
   "cell_type": "markdown",
   "metadata": {},
   "source": [
    "\n",
    "A valid zip code consists of exactly 5 digits<br/>"
   ]
  },
  {
   "cell_type": "code",
   "execution_count": 1,
   "metadata": {},
   "outputs": [
    {
     "name": "stdout",
     "output_type": "stream",
     "text": [
      "True\n"
     ]
    }
   ],
   "source": [
    "def is_valid_zip(zip_code):\n",
    "    \"\"\"Returns whether the input string is a valid (5 digit) zip code\n",
    "    \"\"\"\n",
    "    if len(zip_code) == 5 and zip_code.isdigit():\n",
    "        return True\n",
    "    return False\n",
    "\n",
    "w = \"15484\"\n",
    "print(is_valid_zip(w))"
   ]
  },
  {
   "cell_type": "markdown",
   "metadata": {},
   "source": [
    "return list of indexes of a string containing a keyword<br/>\n",
    "string must not be case sensitive<br/>\n",
    "commas and periods are allowed<br/>\n"
   ]
  },
  {
   "cell_type": "code",
   "execution_count": 2,
   "metadata": {},
   "outputs": [
    {
     "name": "stdout",
     "output_type": "stream",
     "text": [
      "[1]\n"
     ]
    }
   ],
   "source": [
    "doc = [\"The Learn Python Challenge Casino.\", \"They bought a car\", \"Casinoville\"]\n",
    "\n",
    "\n",
    "def word_search(doc_list, keyword):\n",
    "    # list to hold the indices of matching documents\n",
    "    indices = [] \n",
    "\n",
    "    # Iterate through the indices (i) and elements\n",
    "    for i, element in enumerate(doc_list):\n",
    "\n",
    "        # Split the element string into a list of words\n",
    "        words = element.split()\n",
    "\n",
    "        # remove commas and periods. transform to lowercase\n",
    "        cleaned = [word.rstrip('.,').casefold() for word in words]\n",
    "\n",
    "        # update the list of matching items with their indices\n",
    "        if keyword.casefold() in cleaned:\n",
    "            indices.append(i)\n",
    "    return indices\n",
    "\n",
    "x = word_search(doc, \"car\")\n",
    "print(x)"
   ]
  }
 ],
 "metadata": {
  "kernelspec": {
   "display_name": "Python 3.10.5 ('kagEnv': venv)",
   "language": "python",
   "name": "python3"
  },
  "language_info": {
   "codemirror_mode": {
    "name": "ipython",
    "version": 3
   },
   "file_extension": ".py",
   "mimetype": "text/x-python",
   "name": "python",
   "nbconvert_exporter": "python",
   "pygments_lexer": "ipython3",
   "version": "3.10.5"
  },
  "orig_nbformat": 4,
  "vscode": {
   "interpreter": {
    "hash": "126bccd44dfccdf7677cfbb5b5d1f3beeb0a903c4ad7475c430614fb5096140d"
   }
  }
 },
 "nbformat": 4,
 "nbformat_minor": 2
}
