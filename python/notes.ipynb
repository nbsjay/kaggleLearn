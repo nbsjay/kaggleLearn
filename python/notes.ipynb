{
 "cells": [
  {
   "cell_type": "markdown",
   "metadata": {},
   "source": [
    "like int() and float() which convert to their respective data types, bool() converts values to boolean<br/>\n",
    "numbers are converted to 'True', '0' is converted to false, strings are converted to 'True' and and empty<br/>\n",
    "string is converted to 'False'. Examples are shown below"
   ]
  },
  {
   "cell_type": "code",
   "execution_count": null,
   "metadata": {},
   "outputs": [],
   "source": [
    "print(bool(1))\n",
    "print(bool(0))\n",
    "print(bool(\"abc\"))\n",
    "print(bool(\"\")) # take care to not input a space in the quotes"
   ]
  },
  {
   "cell_type": "markdown",
   "metadata": {},
   "source": [
    "converting a bool with 'True\" to int results to 1<br/>\n",
    "converting a bool with \"False\" to int results to 0<br/>"
   ]
  },
  {
   "cell_type": "code",
   "execution_count": null,
   "metadata": {},
   "outputs": [],
   "source": [
    "x = bool(1)\n",
    "print(int(x))"
   ]
  },
  {
   "cell_type": "markdown",
   "metadata": {},
   "source": [
    "#### lists functions, methods and Slicing"
   ]
  },
  {
   "cell_type": "code",
   "execution_count": 1,
   "metadata": {},
   "outputs": [
    {
     "name": "stdout",
     "output_type": "stream",
     "text": [
      "['Mercury', 'Venus', 'Earth']\n",
      "['Saturn', 'Uranus', 'Neptune']\n",
      "['Mercury', 'Venus', 'Earth', 'Mars', 'Jupyter']\n",
      "['Mercury', 'Venus', 'Earth', 'Mars', 'Jupyter', 'Saturn', 'Uranus', 'Neptune', 'Pluto']\n",
      "['Mercury', 'Venus', 'Earth', 'Mars', 'Jupyter', 'Saturn', 'Uranus', 'Neptune']\n"
     ]
    },
    {
     "data": {
      "text/plain": [
       "False"
      ]
     },
     "execution_count": 1,
     "metadata": {},
     "output_type": "execute_result"
    }
   ],
   "source": [
    "planets = [\"Mercury\", \"Venus\", \"Earth\", \"Mars\", \"Jupyter\", \"Saturn\", \"Uranus\", \"Neptune\"]\n",
    "lst = [[1, 2, 3], [3, 2, 1], [4, 5, 6]] # A list of lists\n",
    "\n",
    "print(planets[0:3]) # picks the first value through to the third value in the list\n",
    "print(planets[-3:]) # returns the last three planets\n",
    "print(planets[:-3]) # exclude the last three planets\n",
    "planets.append(\"Pluto\") # adds an element to a list\n",
    "print(planets)\n",
    "planets.pop() # Removes and returns the last element of a list\n",
    "sorted(planets) # sort function returns a sorted version of the list\n",
    "print(planets)\n",
    "len(planets) # length function returns the length of the list\n",
    "planets.index(\"Earth\") # returns the index of earth in the list\n",
    "\"pluto\" in planets # returns 'True' if pluto is in the list"
   ]
  },
  {
   "cell_type": "markdown",
   "metadata": {},
   "source": [
    "Tuples are similar to list but<br/>\n",
    "1 - are created with parentheses<br/>\n",
    "2- Cannot be modified<br/>"
   ]
  },
  {
   "cell_type": "code",
   "execution_count": 3,
   "metadata": {},
   "outputs": [
    {
     "name": "stdout",
     "output_type": "stream",
     "text": [
      "(1, 2, 3)\n"
     ]
    }
   ],
   "source": [
    "t = (1, 2, 3)\n",
    "print(t)"
   ]
  },
  {
   "cell_type": "markdown",
   "metadata": {},
   "source": [
    "list comprehensions offer a shorter syntax for creating or appending lists"
   ]
  },
  {
   "cell_type": "code",
   "execution_count": 4,
   "metadata": {},
   "outputs": [
    {
     "name": "stdout",
     "output_type": "stream",
     "text": [
      "[0, 1, 4, 9, 16, 25, 36, 49, 64, 81]\n",
      "[0, 1, 4, 9, 16, 25, 36, 49, 64, 81]\n"
     ]
    }
   ],
   "source": [
    "# traditional way of writing\n",
    "squares = []\n",
    "for n in range(10):\n",
    "    squares.append(n**2)\n",
    "print(squares)\n",
    "\n",
    "# using a list comprehension\n",
    "squares = [n**2 for n in range(10)]\n",
    "print(squares)"
   ]
  },
  {
   "cell_type": "markdown",
   "metadata": {},
   "source": [
    "because lists are indexed from 0, when getting the last item in a list you<br/>\n",
    "have to subtract one from the total number of items in the list <br/>"
   ]
  },
  {
   "cell_type": "code",
   "execution_count": null,
   "metadata": {},
   "outputs": [],
   "source": [
    "names = [\"Kelly\", \"Nelly\", \"Jimmy\", \"Lenny\"]\n",
    "print(names[4] - 1)"
   ]
  }
 ],
 "metadata": {
  "kernelspec": {
   "display_name": "Python 3.10.5 ('kagEnv': venv)",
   "language": "python",
   "name": "python3"
  },
  "language_info": {
   "codemirror_mode": {
    "name": "ipython",
    "version": 3
   },
   "file_extension": ".py",
   "mimetype": "text/x-python",
   "name": "python",
   "nbconvert_exporter": "python",
   "pygments_lexer": "ipython3",
   "version": "3.10.5"
  },
  "orig_nbformat": 4,
  "vscode": {
   "interpreter": {
    "hash": "126bccd44dfccdf7677cfbb5b5d1f3beeb0a903c4ad7475c430614fb5096140d"
   }
  }
 },
 "nbformat": 4,
 "nbformat_minor": 2
}
