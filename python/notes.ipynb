{
 "cells": [
  {
   "cell_type": "markdown",
   "metadata": {},
   "source": [
    "like int() and float() which convert to their respective data types, bool() converts values to boolean<br/>\n",
    "numbers are converted to 'True', '0' is converted to false, strings are converted to 'True' and and empty<br/>\n",
    "string is converted to 'False'. Examples are shown below"
   ]
  },
  {
   "cell_type": "code",
   "execution_count": 1,
   "metadata": {},
   "outputs": [
    {
     "name": "stdout",
     "output_type": "stream",
     "text": [
      "True\n",
      "False\n",
      "True\n",
      "False\n"
     ]
    }
   ],
   "source": [
    "print(bool(1))\n",
    "print(bool(0))\n",
    "print(bool(\"abc\"))\n",
    "print(bool(\"\")) # take care to not input a space in the quotes"
   ]
  },
  {
   "cell_type": "markdown",
   "metadata": {},
   "source": [
    "converting a bool with 'True\" to int results to 1<br/>\n",
    "converting a bool with \"False\" to int results to 0<br/>"
   ]
  },
  {
   "cell_type": "code",
   "execution_count": 2,
   "metadata": {},
   "outputs": [
    {
     "name": "stdout",
     "output_type": "stream",
     "text": [
      "1\n"
     ]
    }
   ],
   "source": [
    "x = bool(1)\n",
    "print(int(x))"
   ]
  },
  {
   "cell_type": "markdown",
   "metadata": {},
   "source": [
    "#### lists functions, methods and Slicing"
   ]
  },
  {
   "cell_type": "code",
   "execution_count": 3,
   "metadata": {},
   "outputs": [
    {
     "name": "stdout",
     "output_type": "stream",
     "text": [
      "['Mercury', 'Venus', 'Earth']\n",
      "['Saturn', 'Uranus', 'Neptune']\n",
      "['Mercury', 'Venus', 'Earth', 'Mars', 'Jupyter']\n",
      "['Mercury', 'Venus', 'Earth', 'Mars', 'Jupyter', 'Saturn', 'Uranus', 'Neptune', 'Pluto']\n",
      "['Mercury', 'Venus', 'Earth', 'Mars', 'Jupyter', 'Saturn', 'Uranus', 'Neptune']\n"
     ]
    },
    {
     "data": {
      "text/plain": [
       "False"
      ]
     },
     "execution_count": 3,
     "metadata": {},
     "output_type": "execute_result"
    }
   ],
   "source": [
    "planets = [\"Mercury\", \"Venus\", \"Earth\", \"Mars\", \"Jupyter\", \"Saturn\", \"Uranus\", \"Neptune\"]\n",
    "lst = [[1, 2, 3], [3, 2, 1], [4, 5, 6]] # A list of lists\n",
    "\n",
    "print(planets[0:3]) # picks the first value through to the third value in the list\n",
    "print(planets[-3:]) # returns the last three planets\n",
    "print(planets[:-3]) # exclude the last three planets\n",
    "planets.append(\"Pluto\") # adds an element to a list\n",
    "print(planets)\n",
    "planets.pop() # Removes and returns the last element of a list\n",
    "sorted(planets) # sort function returns a sorted version of the list\n",
    "print(planets)\n",
    "len(planets) # length function returns the length of the list\n",
    "planets.index(\"Earth\") # returns the index of earth in the list\n",
    "\"pluto\" in planets # returns 'True' if pluto is in the list"
   ]
  },
  {
   "cell_type": "markdown",
   "metadata": {},
   "source": [
    "Tuples are similar to list but<br/>\n",
    "1 - are created with parentheses<br/>\n",
    "2- Cannot be modified<br/>"
   ]
  },
  {
   "cell_type": "code",
   "execution_count": 4,
   "metadata": {},
   "outputs": [
    {
     "name": "stdout",
     "output_type": "stream",
     "text": [
      "(1, 2, 3)\n"
     ]
    }
   ],
   "source": [
    "t = (1, 2, 3)\n",
    "print(t)"
   ]
  },
  {
   "cell_type": "markdown",
   "metadata": {},
   "source": [
    "list comprehensions offer a shorter syntax for creating or appending lists"
   ]
  },
  {
   "cell_type": "code",
   "execution_count": 5,
   "metadata": {},
   "outputs": [
    {
     "name": "stdout",
     "output_type": "stream",
     "text": [
      "[0, 1, 4, 9, 16, 25, 36, 49, 64, 81]\n",
      "[0, 1, 4, 9, 16, 25, 36, 49, 64, 81]\n"
     ]
    }
   ],
   "source": [
    "# traditional way of writing\n",
    "squares = []\n",
    "for n in range(10):\n",
    "    squares.append(n**2)\n",
    "print(squares)\n",
    "\n",
    "# using a list comprehension\n",
    "squares = [n**2 for n in range(10)]\n",
    "print(squares)"
   ]
  },
  {
   "cell_type": "markdown",
   "metadata": {},
   "source": [
    "The format() method formats the specified value(s) and inserts them inside the string's placeholder.<br/>\n",
    "The placeholder is defined using curly brackets: {}. Read more about the placeholders in the Placeholder section below.<br/>\n",
    "The placeholders can be identified using named indexes {price}, numbered indexes {0}, or even empty placeholders {}<br/>"
   ]
  },
  {
   "cell_type": "code",
   "execution_count": 6,
   "metadata": {},
   "outputs": [
    {
     "name": "stdout",
     "output_type": "stream",
     "text": [
      "My name is John, I'm 36 \n",
      " My name is John, I'm 36 \n",
      " My name is John, I'm 36\n"
     ]
    }
   ],
   "source": [
    "txt1 = \"My name is {fname}, I'm {age}\".format(fname = \"John\", age = 36)\n",
    "txt2 = \"My name is {0}, I'm {1}\".format(\"John\",36)\n",
    "txt3 = \"My name is {}, I'm {}\".format(\"John\",36)\n",
    "\n",
    "print(txt1, \"\\n\", txt2, \"\\n\", txt3)"
   ]
  },
  {
   "cell_type": "markdown",
   "metadata": {},
   "source": [
    "Like lists, python also has dictionary comprehensions"
   ]
  },
  {
   "cell_type": "code",
   "execution_count": 7,
   "metadata": {},
   "outputs": [
    {
     "name": "stdout",
     "output_type": "stream",
     "text": [
      "{'Mercury': 'M', 'Venus': 'V', 'Earth': 'E', 'Mars': 'M', 'Jupiter': 'J', 'Saturn': 'S', 'Uranus': 'U', 'Neptune': 'N'}\n",
      "{'Mercury': 'M', 'Venus': 'V', 'Earth': 'E', 'Mars': 'M', 'Jupiter': 'J', 'Saturn': 'S', 'Uranus': 'U', 'Neptune': 'N'}\n"
     ]
    }
   ],
   "source": [
    "planets = ['Mercury', 'Venus', 'Earth', 'Mars', 'Jupiter', 'Saturn', 'Uranus', 'Neptune']\n",
    "\n",
    "planet_init = {} # create an empty dictionary\n",
    "for planet in planets: # loop over every key\n",
    "    planet_init[planet] = planet[0] # add the key and a value to the dictionary\n",
    "\n",
    "print(planet_init)\n",
    "\n",
    "# the dictionary comprehension equivalent is\n",
    "planet_to_initial = {planet: planet[0] for planet in planets}\n",
    "print(planet_to_initial)\n",
    "# remember that a for loop will loop over the keys of a dictionary"
   ]
  },
  {
   "cell_type": "code",
   "execution_count": 8,
   "metadata": {},
   "outputs": [
    {
     "data": {
      "text/plain": [
       "False"
      ]
     },
     "execution_count": 8,
     "metadata": {},
     "output_type": "execute_result"
    }
   ],
   "source": [
    "# check if a dictionary contains a value\n",
    "\n",
    "\"kenkey\" in planets"
   ]
  },
  {
   "cell_type": "code",
   "execution_count": 17,
   "metadata": {},
   "outputs": [
    {
     "name": "stdout",
     "output_type": "stream",
     "text": [
      "dict_values(['M', 'V', 'E', 'M', 'J', 'S', 'U', 'N'])\n",
      "dict_keys(['Mercury', 'Venus', 'Earth', 'Mars', 'Jupiter', 'Saturn', 'Uranus', 'Neptune'])\n",
      "dict_items([('Mercury', 'M'), ('Venus', 'V'), ('Earth', 'E'), ('Mars', 'M'), ('Jupiter', 'J'), ('Saturn', 'S'), ('Uranus', 'U'), ('Neptune', 'N')])\n"
     ]
    }
   ],
   "source": [
    "# dict.values() and dict.keys() accesses all values and keys respectively\n",
    "\n",
    "print(planet_init.values())\n",
    "print(planet_init.keys())\n",
    "\n",
    "# dict.items() lets us iterate over items in a dictionary. inpython, an item is a key, value pair\n",
    "print(planet_init.items())"
   ]
  },
  {
   "cell_type": "code",
   "execution_count": 18,
   "metadata": {},
   "outputs": [
    {
     "name": "stdout",
     "output_type": "stream",
     "text": [
      "   Mercury begins with \"M\"\n",
      "     Venus begins with \"V\"\n",
      "     Earth begins with \"E\"\n",
      "      Mars begins with \"M\"\n",
      "   Jupiter begins with \"J\"\n",
      "    Saturn begins with \"S\"\n",
      "    Uranus begins with \"U\"\n",
      "   Neptune begins with \"N\"\n"
     ]
    }
   ],
   "source": [
    "\"\"\" iterate over the keys and values of planet_init\"\"\"\n",
    "for planet, initial in planet_init.items():\n",
    "    \"\"\"two curly braces represent the variables planet and initial\"\"\"\n",
    "    print(\"{} begins with \\\"{}\\\"\".format(planet.rjust(10), initial))"
   ]
  }
 ],
 "metadata": {
  "kernelspec": {
   "display_name": "Python 3.10.5 ('kagEnv': venv)",
   "language": "python",
   "name": "python3"
  },
  "language_info": {
   "codemirror_mode": {
    "name": "ipython",
    "version": 3
   },
   "file_extension": ".py",
   "mimetype": "text/x-python",
   "name": "python",
   "nbconvert_exporter": "python",
   "pygments_lexer": "ipython3",
   "version": "3.10.5"
  },
  "orig_nbformat": 4,
  "vscode": {
   "interpreter": {
    "hash": "126bccd44dfccdf7677cfbb5b5d1f3beeb0a903c4ad7475c430614fb5096140d"
   }
  }
 },
 "nbformat": 4,
 "nbformat_minor": 2
}
